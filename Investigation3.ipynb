{
 "cells": [
  {
   "cell_type": "markdown",
   "id": "bf063dfa96ae31d4",
   "metadata": {
    "collapsed": false
   },
   "source": [
    "## Investigation #3:\n",
    "### Expertise in certain topics by a user and how they change. What is the common paths people take in terms of the topics they answer questions on.  \n",
    "\n",
    "E.g.: Do users tend to answer more with questions of a specific tag? Does that distribution change as they post more? Are there trends where people switch from tag to tag over time?   "
   ]
  },
  {
   "cell_type": "code",
   "execution_count": 1,
   "id": "initial_id",
   "metadata": {
    "ExecuteTime": {
     "end_time": "2023-12-05T23:55:37.177109Z",
     "start_time": "2023-12-05T23:55:36.316108600Z"
    },
    "collapsed": false
   },
   "outputs": [],
   "source": [
    "import pandas as pd\n",
    "import xml.etree.ElementTree\n",
    "import numpy as np\n",
    "import re\n",
    "import matplotlib.pyplot as plt\n",
    "import itertools"
   ]
  },
  {
   "cell_type": "markdown",
   "id": "71dac224",
   "metadata": {},
   "source": [
    "We turn the posts data to a data frame"
   ]
  },
  {
   "cell_type": "code",
   "execution_count": 2,
   "id": "ba6946e18c7e282c",
   "metadata": {
    "ExecuteTime": {
     "end_time": "2023-12-05T23:55:38.466745600Z",
     "start_time": "2023-12-05T23:55:37.176109500Z"
    },
    "collapsed": false
   },
   "outputs": [],
   "source": [
    "tree = xml.etree.ElementTree.parse('../XML-Data/Posts.xml')\n",
    "root = tree.getroot()\n",
    "data = []\n",
    "for i in range(len(root)):\n",
    "    data.append(root[i].attrib)\n",
    "    \n",
    "posts_df = pd.DataFrame(data)"
   ]
  },
  {
   "cell_type": "code",
   "execution_count": 3,
   "id": "bde65962658c2be8",
   "metadata": {
    "ExecuteTime": {
     "end_time": "2023-12-05T23:55:38.514745600Z",
     "start_time": "2023-12-05T23:55:38.470746200Z"
    },
    "collapsed": false
   },
   "outputs": [
    {
     "name": "stdout",
     "output_type": "stream",
     "text": [
      "           Id PostTypeId             CreationDate Score ViewCount  \\\n",
      "0           5          1  2014-05-13T23:58:30.457     9       919   \n",
      "1           7          1  2014-05-14T00:11:06.457     4       487   \n",
      "2           9          2  2014-05-14T00:36:31.077     5       NaN   \n",
      "3          10          2  2014-05-14T00:53:43.273    13       NaN   \n",
      "4          14          1  2014-05-14T01:25:59.677    26      1913   \n",
      "...       ...        ...                      ...   ...       ...   \n",
      "77594  123521          1  2023-09-02T13:07:57.780     0        12   \n",
      "77595  123522          1  2023-09-02T18:10:35.933     0         6   \n",
      "77596  123523          1  2023-09-02T19:18:23.623     0         5   \n",
      "77597  123524          2  2023-09-02T20:58:44.510     0       NaN   \n",
      "77598  123525          1  2023-09-02T22:52:08.440     0         6   \n",
      "\n",
      "                                                    Body OwnerUserId  \\\n",
      "0      <p>I've always been interested in machine lear...           5   \n",
      "1      <p>As a researcher and instructor, I'm looking...          36   \n",
      "2      <p>Not sure if this fits the scope of this SE,...          51   \n",
      "3      <p>One book that's freely available is \"The El...          22   \n",
      "4      <p>I am sure data science as will be discussed...          66   \n",
      "...                                                  ...         ...   \n",
      "77594  <p><em>This is my first question here, so if I...      154173   \n",
      "77595  <p>I am working with this dataset <a href=\"htt...      128626   \n",
      "77596  <p>I used Keras implementation of the cosine r...      116262   \n",
      "77597  <p>Brian is right. You need to consider a vide...       94184   \n",
      "77598  <p>Two terms are in vogue for a longtime. Are ...       91724   \n",
      "\n",
      "              LastActivityDate  \\\n",
      "0      2014-05-14T00:36:31.077   \n",
      "1      2014-05-16T13:45:00.237   \n",
      "2      2014-05-14T00:36:31.077   \n",
      "3      2014-05-14T00:53:43.273   \n",
      "4      2020-08-16T13:01:33.543   \n",
      "...                        ...   \n",
      "77594  2023-09-02T14:47:51.020   \n",
      "77595  2023-09-02T18:10:35.933   \n",
      "77596  2023-09-02T19:18:23.623   \n",
      "77597  2023-09-02T20:58:44.510   \n",
      "77598  2023-09-02T22:52:08.440   \n",
      "\n",
      "                                                   Title  \\\n",
      "0      How can I do simple machine learning without h...   \n",
      "1      What open-source books (or other materials) pr...   \n",
      "2                                                    NaN   \n",
      "3                                                    NaN   \n",
      "4               Is Data Science the Same as Data Mining?   \n",
      "...                                                  ...   \n",
      "77594            Similiar reconstruction for Pytorch VAE   \n",
      "77595        How to remove augmented data from test data   \n",
      "77596  Derive Keras Cosine Restarts Scheduler Formula...   \n",
      "77597                                                NaN   \n",
      "77598  How do I differentiate validity-coefficient fr...   \n",
      "\n",
      "                                                    Tags  ...  \\\n",
      "0                                     <machine-learning>  ...   \n",
      "1                               <education><open-source>  ...   \n",
      "2                                                    NaN  ...   \n",
      "3                                                    NaN  ...   \n",
      "4                             <data-mining><definitions>  ...   \n",
      "...                                                  ...  ...   \n",
      "77594   <pytorch><vae><pearsons-correlation-coefficient>  ...   \n",
      "77595  <python><image-classification><image-preproces...  ...   \n",
      "77596       <machine-learning><keras><mathematics><code>  ...   \n",
      "77597                                                NaN  ...   \n",
      "77598  <significance><validity-coefficient><statistic...  ...   \n",
      "\n",
      "                    ClosedDate ContentLicense AcceptedAnswerId  \\\n",
      "0      2014-05-14T14:40:25.950   CC BY-SA 3.0              NaN   \n",
      "1      2014-05-14T08:40:54.950   CC BY-SA 3.0               10   \n",
      "2                          NaN   CC BY-SA 3.0              NaN   \n",
      "3                          NaN   CC BY-SA 3.0              NaN   \n",
      "4                          NaN   CC BY-SA 3.0               29   \n",
      "...                        ...            ...              ...   \n",
      "77594                      NaN   CC BY-SA 4.0              NaN   \n",
      "77595                      NaN   CC BY-SA 4.0              NaN   \n",
      "77596                      NaN   CC BY-SA 4.0              NaN   \n",
      "77597                      NaN   CC BY-SA 4.0              NaN   \n",
      "77598                      NaN   CC BY-SA 4.0              NaN   \n",
      "\n",
      "      LastEditorUserId             LastEditDate ParentId OwnerDisplayName  \\\n",
      "0                  NaN                      NaN      NaN              NaN   \n",
      "1                   97  2014-05-16T13:45:00.237      NaN              NaN   \n",
      "2                  NaN                      NaN        5              NaN   \n",
      "3                  NaN                      NaN        7              NaN   \n",
      "4                  322  2014-06-17T16:17:20.473      NaN              NaN   \n",
      "...                ...                      ...      ...              ...   \n",
      "77594           154173  2023-09-02T14:47:51.020      NaN              NaN   \n",
      "77595              NaN                      NaN      NaN              NaN   \n",
      "77596              NaN                      NaN      NaN              NaN   \n",
      "77597              NaN                      NaN    67208              NaN   \n",
      "77598              NaN                      NaN      NaN              NaN   \n",
      "\n",
      "      CommunityOwnedDate LastEditorDisplayName FavoriteCount  \n",
      "0                    NaN                   NaN           NaN  \n",
      "1                    NaN                   NaN           NaN  \n",
      "2                    NaN                   NaN           NaN  \n",
      "3                    NaN                   NaN           NaN  \n",
      "4                    NaN                   NaN           NaN  \n",
      "...                  ...                   ...           ...  \n",
      "77594                NaN                   NaN           NaN  \n",
      "77595                NaN                   NaN           NaN  \n",
      "77596                NaN                   NaN           NaN  \n",
      "77597                NaN                   NaN           NaN  \n",
      "77598                NaN                   NaN           NaN  \n",
      "\n",
      "[77599 rows x 22 columns]\n",
      "Index(['Id', 'PostTypeId', 'CreationDate', 'Score', 'ViewCount', 'Body',\n",
      "       'OwnerUserId', 'LastActivityDate', 'Title', 'Tags', 'AnswerCount',\n",
      "       'CommentCount', 'ClosedDate', 'ContentLicense', 'AcceptedAnswerId',\n",
      "       'LastEditorUserId', 'LastEditDate', 'ParentId', 'OwnerDisplayName',\n",
      "       'CommunityOwnedDate', 'LastEditorDisplayName', 'FavoriteCount'],\n",
      "      dtype='object')\n"
     ]
    }
   ],
   "source": [
    "print(posts_df)\n",
    "print(posts_df.columns)"
   ]
  },
  {
   "cell_type": "markdown",
   "id": "91ac51bd",
   "metadata": {},
   "source": [
    "We clean any html tags in text"
   ]
  },
  {
   "cell_type": "code",
   "execution_count": 4,
   "id": "8363e938c5d34ae8",
   "metadata": {
    "ExecuteTime": {
     "end_time": "2023-12-05T23:55:38.559744900Z",
     "start_time": "2023-12-05T23:55:38.514745600Z"
    },
    "collapsed": false
   },
   "outputs": [],
   "source": [
    "def remove_html_tags(html_text):\n",
    "    # Remove html tags from a string\n",
    "    clean = re.compile('<.*?>')\n",
    "    return re.sub(clean, '', html_text)"
   ]
  },
  {
   "cell_type": "markdown",
   "id": "32358cda",
   "metadata": {},
   "source": [
    "* Here we extract and process posts_df that are questions and do not have missing data in the \"Tags\" or \"OwnerUserId\" fields. We select specific columns, sort them by user ID and creation date in descending order, and performs a deep copy. \n",
    "* Additionally, we convert the \"OwnerUserId\" field to an integer type and the \"CreationDate\" field to a datetime type. \n",
    "* The \"Tags\" field is also transformed from a single string with tags enclosed in angle brackets to a list of strings. \n",
    "* Finally, the DataFrame is sorted again (ascending by default) and the resulting data along with their types are printed out."
   ]
  },
  {
   "cell_type": "code",
   "execution_count": 5,
   "id": "9dad7c1f0e17f0be",
   "metadata": {
    "ExecuteTime": {
     "end_time": "2023-12-05T23:55:38.813745100Z",
     "start_time": "2023-12-05T23:55:38.532745200Z"
    },
    "collapsed": false
   },
   "outputs": [
    {
     "name": "stdout",
     "output_type": "stream",
     "text": [
      "       OwnerUserId            CreationDate  \\\n",
      "0                5 2014-05-13 23:58:30.457   \n",
      "21271           11 2018-06-12 12:56:32.003   \n",
      "23              26 2014-05-14 09:51:54.753   \n",
      "1935            26 2015-02-24 11:59:36.033   \n",
      "2135            26 2015-04-11 21:35:14.517   \n",
      "...            ...                     ...   \n",
      "77571       154136 2023-08-31 15:16:40.257   \n",
      "77574       154145 2023-09-01 05:07:40.087   \n",
      "77593       154170 2023-09-02 11:08:53.763   \n",
      "77592       154171 2023-09-02 10:55:56.777   \n",
      "77594       154173 2023-09-02 13:07:57.780   \n",
      "\n",
      "                                                    Tags  \n",
      "0                                     [machine-learning]  \n",
      "21271  [machine-learning, time-series, data-science-m...  \n",
      "23                                          [algorithms]  \n",
      "1935   [neural-network, image-classification, convolu...  \n",
      "2135   [neural-network, convolutional-neural-network,...  \n",
      "...                                                  ...  \n",
      "77571                            [hyperparameter-tuning]  \n",
      "77574                 [time-series, markov-hidden-model]  \n",
      "77593  [time-series, linear-regression, data-cleaning...  \n",
      "77592                                       [embeddings]  \n",
      "77594   [pytorch, vae, pearsons-correlation-coefficient]  \n",
      "\n",
      "[36145 rows x 3 columns]\n",
      "OwnerUserId              int32\n",
      "CreationDate    datetime64[ns]\n",
      "Tags                    object\n",
      "dtype: object\n"
     ]
    }
   ],
   "source": [
    "# Get the posts that are questions that are not missing any data as a deep copy\n",
    "test_cases = posts_df.loc[posts_df[\"Tags\"].notna() & posts_df[\"OwnerUserId\"].notna() & posts_df[\"PostTypeId\"] == 1,[\"OwnerUserId\", \"CreationDate\", \"Tags\"]].sort_values(by=['OwnerUserId', 'CreationDate'], ascending=False, ignore_index=False).copy(deep=True)\n",
    "# Convert the OwnerUserId column to int\n",
    "test_cases[\"OwnerUserId\"] = test_cases[\"OwnerUserId\"].astype(int)\n",
    "# Convert the Creation Date String to datetime\n",
    "test_cases[\"CreationDate\"] = pd.to_datetime(test_cases[\"CreationDate\"])\n",
    "\n",
    "# Convert the tags to lists of strings instead of being <t1><t2> \n",
    "tags = np.asarray(test_cases[\"Tags\"])\n",
    "for i in range(len(tags)):\n",
    "    tags[i] = tags[i].replace(\"<\", \"\").replace(\">\", \" \").split()\n",
    "\n",
    "# Sort it\n",
    "test_cases.sort_values([\"OwnerUserId\", \"CreationDate\"],inplace=True)\n",
    "\n",
    "print(test_cases)\n",
    "print(test_cases.dtypes)"
   ]
  },
  {
   "cell_type": "markdown",
   "id": "f9b6dab7",
   "metadata": {},
   "source": [
    "Here we get the number of unique users and the number of questions asked per user"
   ]
  },
  {
   "cell_type": "code",
   "execution_count": 33,
   "id": "ed027fa1451eb8ac",
   "metadata": {
    "ExecuteTime": {
     "end_time": "2023-12-06T00:03:55.622054500Z",
     "start_time": "2023-12-06T00:03:55.508033700Z"
    },
    "collapsed": false
   },
   "outputs": [
    {
     "name": "stdout",
     "output_type": "stream",
     "text": [
      "Number of Unique Users: 20503\n",
      "134\n"
     ]
    },
    {
     "data": {
      "image/png": "[encoded data removed]",
      "text/plain": [
       "<Figure size 640x480 with 1 Axes>"
      ]
     },
     "metadata": {},
     "output_type": "display_data"
    }
   ],
   "source": [
    "unique_users, unique_user_post_counts = np.unique(test_cases[\"OwnerUserId\"], return_counts=True)\n",
    "print(f\"Number of Unique Users: {len(unique_users)}\")\n",
    "num_users_with_question = np.zeros(np.max(unique_user_post_counts)+1).astype(int)\n",
    "for i in range(np.max(unique_user_post_counts)+1):\n",
    "    num_users_with_question[i] = len(unique_users[unique_user_post_counts == i])\n",
    "\n",
    "min_index = 1\n",
    "max_index = len(num_users_with_question)\n",
    "print(max_index)\n",
    "plt.bar(np.linspace(min_index,max_index-1, num=max_index-min_index).astype(int), num_users_with_question[min_index:max_index])\n",
    "plt.xlabel(\"Questions Asked\")\n",
    "plt.ylabel(\"Number of Users\")\n",
    "plt.xticks(np.linspace(1,len(num_users_with_question)+1,num=10).astype(int))\n",
    "plt.show()"
   ]
  },
  {
   "cell_type": "markdown",
   "id": "207553e6",
   "metadata": {},
   "source": [
    "Here we are getting the top ten unique tags"
   ]
  },
  {
   "cell_type": "code",
   "execution_count": 7,
   "id": "2eb796a1d2f2a793",
   "metadata": {
    "ExecuteTime": {
     "end_time": "2023-12-05T23:55:39.028745800Z",
     "start_time": "2023-12-05T23:55:38.939745Z"
    },
    "collapsed": false
   },
   "outputs": [
    {
     "name": "stdout",
     "output_type": "stream",
     "text": [
      "[['machine-learning' '11165']\n",
      " ['python' '6558']\n",
      " ['deep-learning' '4794']\n",
      " ...\n",
      " ['pad-truncate' '1']\n",
      " ['data-license' '1']\n",
      " ['archive-org' '1']]\n",
      "\n",
      "dict_keys(['python', 'pytorch', 'gpu', 'image-segmentation', 'visualization', 'regression', 'statistics', 'scikit-learn', 'fuzzy-classification', 'word-embeddings', 'sentiment-analysis', 'classification', 'class-imbalance', 'beginner', 'smote', 'nlp', 'bert', 'transformer', 'machine-learning', 'r', 'bootstraping', 'random-forest', 'gradient-descent', 'machine-learning-model', 'keras', 'preprocessing', 'text', 'sequence', 'matplotlib', 'plotting', 'ggplot2', 'heatmap', 'lstm', 'rnn', 'neural-network', 'time-series', 'prediction', 'forecasting', 'data', 'linear-regression', 'data-cleaning', 'missing-data', 'data-imputation', 'feature-extraction', 'encoding', 'features', 'language-model', 'stanford-nlp', 'gpt', 'embeddings', 'huggingface', 'classifier', 'transfer-learning', 'text-classification', 'regularization', 'cross-validation', 'auc', 'logistic-regression', 'overfitting', 'tensorflow', 'training', 'accuracy', 'dataset', 'tokenization', 'supervised-learning', 'imbalanced-learn', 'xgboost', 'probability-calibration', 'pandas', 'dataframe', 'k-nn', 'decision-trees', 'java', 'data-mining', 'deep-learning', 'sagemaker', 'clustering', 'anomaly-detection', 'gaussian', 'k-means', 'ensemble-modeling', 'algorithms', 'unsupervised-learning', 'numpy', 'cnn', 'convolution', 'convolutional-neural-network', 'matrix', 'matrix-factorisation', 'categorical-data', 'optimization', 'batch-normalization', 'vc-theory', 'pac-learning', 'reshape', 'dimensionality-reduction', 'reinforcement-learning', 'openai-gym', 'computer-vision', 'ai', 'data-science-model', 'pattern-recognition', 'correlation', 'image-classification', 'multiclass-classification', 'feature-selection', 'machine-translation', 'ranking', 'data-augmentation', 'object-detection', 'adaboost', 'hyperparameter-tuning', 'mlp', 'grid-search', 'terminology', 'learning', 'interpolation', 'svm', 'social-network-analysis', 'text-mining', 'discriminant-analysis', 'lda-classifier', 'apache-hadoop', 'hive', 'binary-classification', 'linearly-separable', 'precision-recall-curve', 'one-hot-encoding', 'bayes-error', 'predictive-modeling', 'definitions', 'knowledge-base', 'hardware', 'q-learning', 'model-selection', 'python-3.x', 'recommender-system', 'metric', 'word2vec', 'vector-space-models', 'data-analysis', 'pca', 'ridge-regression', 'exploratory-factor-analysis', 'similarity', 'distance', 'mnist', 'representation', 'vae', 'association-rules', 'categorical-encoding', 'api', 'naive-bayes-classifier', 'implementation', 'dropout', 'loss-function', 'csv', 'named-entity-recognition', 'text-generation', 'feature-scaling', 'model-evaluations', 'orange', 'image-preprocessing', 'opencv', 'cuda', 'sql', 'image-recognition', 'error-handling', 'books', 'poisson', 'shap', 'fasttext', 'mathematics', 'javascript', 'feature-engineering', 'spacy', 'mse', 'geospatial', 'probability', 'generative-models', 'bayesian', 'aggregation', 'confusion-matrix', 'jupyter', 'seaborn', 'natural-gradient-boosting', 'backpropagation', 'activation-function', 'uncertainty', 'attention-mechanism', 'image', 'julia', 'search-engine', 'torch', 'hinge-loss', 'confidence', 'library', 'graph-neural-network', 'knowledge-graph', 'semi-supervised-learning', 'binary', 'powerbi', 'graphs', 'community', 'mutual-information', 'anova', 'spearmans-rank-correlation', 'f1score', 'data-leakage', 'similar-documents', 'doc2vec', 'policy-gradients', 'actor-critic', 'data-engineering', 'etl', 'google-bigquery', 'google-cloud-platform', 'arima', 'distribution', 'vector-database', 'variance', 'predict', 'tfidf', 'outlier', 'sampling', 'mean', 'lightgbm', 'gradient', 'bag-of-words', 'bias', 'weight-initialization', 'epochs', 'noise', 'collinearity', 'multilabel-classification', 'kaggle', 'bigdata', 'feature-construction', 'interpretation', 'mxnet', 'ocr', 'simulation', 'gbm', 'feature-importances', 'performance', 'dplyr', 'parsing', 'descriptive-statistics', 'audio-recognition', 'ann', 'azure-ml', 'semantic-similarity', 'llm', 'prompt-engineering', 'chatgpt', 'hyperparameter', 'statsmodels', 'early-stopping', 'lasso', 'rstudio', 'excel', 'siamese-networks', 'one-shot-learning', 'research', 'theory', 'weighted-data', 'regex', 'gensim', 'generalization', 'autoencoder', 'dummy-variables', 'featurization', 'imbalanced-data', 'pvalue', 'spectral-clustering', 'gridsearchcv', 'histogram', 'gan', 'data-wrangling', 'matlab', 'pyspark', 'normalization', 'octave', 'pipelines', 'isolation-forest', 'search', 'alex-net', 'object-recognition', 'apache-spark', 'derivation', 'labels', 'tsne', 'management', 'kernel', 'pickle', 'mini-batch-gradient-descent', 'dqn', 'objective-function', 'cloud-computing', 'cart', 'graphviz', 'genetic-algorithms', 'notation', 'evolutionary-algorithms', 'rattle', 'ensemble-learning', 'boosting', 'ensemble', 'yolo', 'markov-hidden-model', 'inceptionresnetv2', 'functional-api', 'groupby', 'anaconda', 'lime', 'feature-reduction', 'self-study', 'multivariate-distribution', 'loss', 'roc', 'target-encoding', 'ipython', 'explainable-ai', 'predictor-importance', 'softmax', 'fuzzy-logic', 'code', 'time', 'difference', 'data-formats', 'causalimpact', 'spyder', 'gru', 'encoder', 'scipy', 'scala', 'colab', 'tpu', 'nvidia', 'cloud', 'federated-learning', 'corpus', 'game', 'parallel', 'elastic-net', 'sparsity', 'learning-rate', 'topic-model', 'lda', 'weka', 'cost-function', 'survival-analysis', 'ab-test', 'experiments', 'bagging', 'open-source', 'tools', 'programming', 'tableau', 'marketing', 'infographics', 'hierarchical-data-format', 'education', 'career', 'document-understanding', 'faster-rcnn', 'markov-process', 'nltk', 'pearsons-correlation-coefficient', 'cosine-distance', 'naive-bayes-algorithim', 'semantic-segmentation', 'rmse', 'expectation-maximization', 'state-of-the-art', 'non-parametric', 'finance', 'information-retrieval', 'chi-square-test', 'cause-and-effect', 'dbscan', 'parameter-estimation', 'automatic-summarization', 'rbf', 'active-learning', 'cross-entropy', 'monte-carlo', 'linear-algebra', 'parameter', 'automl', 'validation', 'sgd', 'networkx', 'randomized-algorithms', 'bioinformatics', 'numerical', 'finetuning', 'information-extraction', 'sparse', 'coursera', 'glm', 'ngrams', 'distributed', 'nosql', 'relational-dbms', 'json', 'annotation', 'labelling', 'finite-precision', 'counts', 'speech-to-text', 'wikipedia', 'aws', 'databases', 'forecast', 'data-stream-mining', 'domain-adaptation', 'image-size', 'web-scraping', 'inception', 'reference-request', 'vgg16', 'processing', 'structural-equation-modelling', 'pretraining', 'svr', 'universal-approximation-theorem', 'momentum', 'sequential-pattern-mining', 'pruning', 'map-reduce', 'sports', 'gaussian-process', 'multi-output', 'plotly', 'learning-to-rank', 'gradient-boosting-decision-trees', 'structured-data', 'linux', 'activity-recognition', 'scoring', 'version-control', 'kendalls-tau-coefficient', 'sensors', 'graphical-model', 'markov', 'serialisation', 'voice', 'speaker-sgmentation', 'vad', 'speaker', 'pyannote', 'plda', 'hypothesis-testing', 'test', 'feature-map', 'r-squared', 'sigmoid', 'self-driving', 'libsvm', 'linear-models', 'c', 'perceptron', 'google', 'google-data-studio', 'movielens', 'jaccard-coefficient', 'bar-chart', 'lsi', 'market-basket-analysis', 'word', 'churn', 'online-learning', 'neural-style-transfer', 'entity-linking', 'deployment', 'backtest', 'feedback-loop', 'information-theory', 'oversampling', 'google-cloud', 'score', 'significance', 'validity-coefficient', 'statistical-significance', 'validity', 'inference', 'clinical', 't', 'correlated', 'curvi-linear', 'transformation', 'normal', 'sequence-to-sequence', 'bokeh', 'esl', 'sas', 'data-indexing-techniques', 'methods', 'question-answering', 'efficiency', 'scalability', 'mean-shift', 'metaheuristics', 'partial-least-squares', 'knime', 'fastai', 'freebase', 'neo4j', 'mongodb', '3d-reconstruction', 'memory', 'imbalance', 'multitask-learning', 'meta-learning', 'smotenc', 'tesseract', 'allennlp', 'data-table', 'least-squares-svm', 'homework', 'hashingvectorizer', 'pip', 'conda', 'mlflow', 'mlops', 'usecase', 'ngboost', 'hog', 'multi-instance-learning', 'windows', 'recurrent-neural-network', 'kalman-filter', 'software-recommendation', 'stemming', 'keras-rl', 'rbm', 'bayesian-networks', 'pgm', 'text-filter', 'catboost', 'combinatorics', 'genetic', 'genetic-programming', 'consumerweb', 'data-product', 'time-complexity', 'agglomerative', 'dynamic-programming', 'indexing', 'theano', 'convergence', 'stacked-lstm', 'pooling', 'labeling', 'privacy', 'crawling', 'twitter', 'python-polars', 'spss', 'apache-mahout', 'conformalprediction', 'partial-dependence-plot', 'density-estimation', 'c++', 'ndcg', 'deepmind', 'methodology', 'aws-lambda', 'stata', 'automation', 'perplexity', 'text-to-speech', 'ibm-watson', 'caffe', 'project-planning', 'software-development', 'gmm', 'intuition', 'anomaly', 'feature-interaction', 'adversarial-ml', 'levenshtein-distance', 'field-aware-factorization-machines', 'hashing-trick', 'flask', 'bayesian-nonparametric', 'masking', 'real-ml-usecase', 'apache-pig', 'hbase', 'normal-equation', 'probabilistic-programming', 'stacking', 'one-class-classification', 'estimation', 'manhattan', 'nlg', 'anonymization', 't-test', 'normal-distribution', 'logistic', 'scraping', 'pytorch-geometric', 'chatbot', 'dirichlet', 'estimators', 'metadata', 'document-term-matrix', 'google-prediction-api', 'reward', 'coherence', 'linear-programming', 'h2o', 'competitions', 'logarithmic', 'knowledge-distillation', 'pasting', 'permutation-test', 'dynamic-time-warping', 'wolfram-language', 'amazon-ml', 'bart', 'data-drift', '.net', 'custom-layer', 'discounted-reward', 'hpc', 'variational-inference', 'history', 'ethical-ai', 'functions', 'cs231n', 'manifold', 'umap', 'glorot-initialization', 'redshift', 'gnn', 'goodness-of-fit', 'spatial-transformer', 'rasa-nlu', 'context-vector', 'rfe', 'text-processing', 'retraining', 'dictionary', 'duplicate', 'tensorboard', 'few-shot-learning', 'noisification', 'tranformation', 'yolov5', 'tflearn', 'apache-kafka', 'pacf', 'grammar-inference', 'pymc3', 'torchvision', '3d-object-detection', 'rapidminer', 'mcmc', 'boruta', 'concept-drift', 'iis', 'gini-index', 'wasserstein', 'cyclegan', 'image-generation', 'weight-decay', 'hashing', 'xgboost-classifier', 'xgboost-predict', 'prophet', 'fourier', 'predict-proba', 'best-practice', 'pycaret', 'symbolic-learning', 't5', 'data-quality', 'pybrain', 'pytorch-lightning', 'diffusion', 'synthetic-feature', 'entropy', 'seasonality', 'repeated-pattern', 'date', 'artificial-intelligence', 'analysis', 'deepar', 'reproducibility', 'elastic-search', 'pearsons-coefficient', 'pcamixdata', 'taxonomy', 'odds', 'zero-shot-learning', 'data-structure', 'dynamic-batching', 'pad-truncate', 'data-license', 'archive-org', 'replication'])\n",
      "110967\n",
      "[['machine-learning' '11165']\n",
      " ['python' '6558']\n",
      " ['deep-learning' '4794']\n",
      " ['neural-network' '4319']\n",
      " ['classification' '3206']\n",
      " ['keras' '2715']\n",
      " ['nlp' '2640']\n",
      " ['scikit-learn' '2274']\n",
      " ['tensorflow' '2189']\n",
      " ['time-series' '1856']]\n",
      "[0.1006155  0.05909865 0.04320203 0.03892148 0.02889147 0.02446673\n",
      " 0.02379086 0.02049258 0.01972659 0.01672569]\n",
      "0.3759315832634927\n"
     ]
    }
   ],
   "source": [
    "# Make a dictionary that counts the unique tags\n",
    "unique_tags = dict()\n",
    "\n",
    "for tag_list in tags:\n",
    "    for element in tag_list:\n",
    "        if element not in unique_tags:\n",
    "            unique_tags[element] = 1\n",
    "        else:\n",
    "            unique_tags.update({element: unique_tags.get(element) + 1})\n",
    "tag_counts = np.array(list(sorted(unique_tags.items(), key=lambda x:x[1], reverse=True)))\n",
    "print(tag_counts)\n",
    "print()\n",
    "print(unique_tags.keys())\n",
    "print(sum(unique_tags.values()))\n",
    "top_ten_tags = tag_counts[0:10]\n",
    "top_ten_tags_percent = np.zeros(10)\n",
    "for i in range (len(top_ten_tags)):\n",
    "    top_ten_tags_percent[i] = int(top_ten_tags[i][1]) / sum(unique_tags.values())\n",
    "print(top_ten_tags)\n",
    "print(top_ten_tags_percent)\n",
    "print(sum(top_ten_tags_percent))"
   ]
  },
  {
   "cell_type": "code",
   "execution_count": 8,
   "id": "40bc6e253ffa5114",
   "metadata": {
    "ExecuteTime": {
     "end_time": "2023-12-05T23:55:39.036745Z",
     "start_time": "2023-12-05T23:55:38.969745200Z"
    },
    "collapsed": false
   },
   "outputs": [
    {
     "name": "stdout",
     "output_type": "stream",
     "text": [
      "       OwnerUserId            CreationDate  \\\n",
      "0                5 2014-05-13 23:58:30.457   \n",
      "21271           11 2018-06-12 12:56:32.003   \n",
      "23              26 2014-05-14 09:51:54.753   \n",
      "1935            26 2015-02-24 11:59:36.033   \n",
      "2135            26 2015-04-11 21:35:14.517   \n",
      "...            ...                     ...   \n",
      "77571       154136 2023-08-31 15:16:40.257   \n",
      "77574       154145 2023-09-01 05:07:40.087   \n",
      "77593       154170 2023-09-02 11:08:53.763   \n",
      "77592       154171 2023-09-02 10:55:56.777   \n",
      "77594       154173 2023-09-02 13:07:57.780   \n",
      "\n",
      "                                                    Tags  \n",
      "0                                     [machine-learning]  \n",
      "21271  [machine-learning, time-series, data-science-m...  \n",
      "23                                          [algorithms]  \n",
      "1935   [neural-network, image-classification, convolu...  \n",
      "2135   [neural-network, convolutional-neural-network,...  \n",
      "...                                                  ...  \n",
      "77571                            [hyperparameter-tuning]  \n",
      "77574                 [time-series, markov-hidden-model]  \n",
      "77593  [time-series, linear-regression, data-cleaning...  \n",
      "77592                                       [embeddings]  \n",
      "77594   [pytorch, vae, pearsons-correlation-coefficient]  \n",
      "\n",
      "[36145 rows x 3 columns]\n"
     ]
    }
   ],
   "source": [
    "print(test_cases)"
   ]
  },
  {
   "cell_type": "markdown",
   "id": "23d19094",
   "metadata": {},
   "source": [
    "Now, we get the amount of questions per user"
   ]
  },
  {
   "cell_type": "code",
   "execution_count": 9,
   "id": "aabe5d3c32cdcf3f",
   "metadata": {
    "ExecuteTime": {
     "end_time": "2023-12-05T23:55:39.473745100Z",
     "start_time": "2023-12-05T23:55:38.985745500Z"
    },
    "collapsed": false
   },
   "outputs": [],
   "source": [
    "question_tags_matrix = []\n",
    "\n",
    "for entry in unique_users:\n",
    "    temp = [entry]\n",
    "    question_tags_matrix.append(temp)\n",
    "\n",
    "temp = test_cases[['OwnerUserId', \"Tags\"]]\n",
    "prev = None\n",
    "qtm_index = -1\n",
    "for i in range(len(temp)):\n",
    "    if temp.OwnerUserId.iloc[i] != prev:\n",
    "        qtm_index += 1\n",
    "        question_tags_matrix[qtm_index].append(temp.Tags.iloc[i])\n",
    "        prev = temp.OwnerUserId.iloc[i]\n",
    "    else:\n",
    "        question_tags_matrix[qtm_index].append(temp.Tags.iloc[i])\n",
    "        prev = temp.OwnerUserId.iloc[i]"
   ]
  },
  {
   "cell_type": "code",
   "execution_count": 10,
   "id": "d01daef73cd8a91",
   "metadata": {
    "ExecuteTime": {
     "end_time": "2023-12-05T23:55:39.496746Z",
     "start_time": "2023-12-05T23:55:39.474745700Z"
    },
    "collapsed": false
   },
   "outputs": [
    {
     "name": "stdout",
     "output_type": "stream",
     "text": [
      "       OwnerUserId  NumQuestions  \\\n",
      "0                5             1   \n",
      "1               11             1   \n",
      "2               26            10   \n",
      "3               34             1   \n",
      "4               36             2   \n",
      "...            ...           ...   \n",
      "20498       154136             1   \n",
      "20499       154145             1   \n",
      "20500       154170             1   \n",
      "20501       154171             1   \n",
      "20502       154173             1   \n",
      "\n",
      "                                            QuestionTags  \n",
      "0                                   [[machine-learning]]  \n",
      "1      [[machine-learning, time-series, data-science-...  \n",
      "2      [[algorithms], [neural-network, image-classifi...  \n",
      "3      [[deep-learning, reinforcement-learning, corre...  \n",
      "4      [[education, open-source], [bigdata, clusterin...  \n",
      "...                                                  ...  \n",
      "20498                          [[hyperparameter-tuning]]  \n",
      "20499               [[time-series, markov-hidden-model]]  \n",
      "20500  [[time-series, linear-regression, data-cleanin...  \n",
      "20501                                     [[embeddings]]  \n",
      "20502  [[pytorch, vae, pearsons-correlation-coefficie...  \n",
      "\n",
      "[20503 rows x 3 columns]\n",
      "OwnerUserId      int32\n",
      "NumQuestions     int64\n",
      "QuestionTags    object\n",
      "dtype: object\n"
     ]
    }
   ],
   "source": [
    "# Slice off the OwnerUserID data since it is no longer needed\n",
    "question_tags_matrix = list(map(lambda x:x[1:], question_tags_matrix))\n",
    "user_question_tags_df = pd.DataFrame(data={\"OwnerUserId\": unique_users, \"NumQuestions\": unique_user_post_counts, \"QuestionTags\": question_tags_matrix})\n",
    "print(user_question_tags_df)\n",
    "print(user_question_tags_df.dtypes)"
   ]
  },
  {
   "cell_type": "code",
   "execution_count": 11,
   "id": "b37f088420f80f3",
   "metadata": {
    "ExecuteTime": {
     "end_time": "2023-12-05T23:55:39.536745600Z",
     "start_time": "2023-12-05T23:55:39.490746100Z"
    },
    "collapsed": false
   },
   "outputs": [
    {
     "name": "stdout",
     "output_type": "stream",
     "text": [
      "[3718  994  525  282  201  139  121   66   74   59   49   44   34   28\n",
      "   23   17   20   18   12   12   13   11   10    7    6    6    6    5\n",
      "    4    5    5    7    4    2    5    2    1    4    2    2    2    1\n",
      "    1    1    0    0    1    0    0    1    0    0    0    1    0    0\n",
      "    0    0    0    0    0    0    0    0    0    0    0    0    0    0\n",
      "    0    0    0    0    0    0    0    0    0    0    0    0    0    0\n",
      "    0    0    0    0    0    0    1    0    0    0    0    0    0    1\n",
      "    0    0    0    0    0    0    0    0    0    0    1    0    0    0\n",
      "    0    0    0    1    0    0    0    1    0    0    0    0    0    0\n",
      "    0    1    0    0    0    0    1]\n"
     ]
    }
   ],
   "source": [
    "count = np.zeros(max(user_question_tags_df.NumQuestions)).astype(int)\n",
    "\n",
    "# For each tag track its usage as the users asks more questions\n",
    "for q in user_question_tags_df.QuestionTags:\n",
    "    for i in range(len(q)):\n",
    "        if 'python' in q[i]:\n",
    "            count[i] = count[i] + 1\n",
    "print(count)"
   ]
  },
  {
   "cell_type": "code",
   "execution_count": 12,
   "id": "5141ccee9d5f4a",
   "metadata": {
    "ExecuteTime": {
     "end_time": "2023-12-05T23:55:39.550747300Z",
     "start_time": "2023-12-05T23:55:39.508746200Z"
    },
    "collapsed": false
   },
   "outputs": [],
   "source": [
    "def count_pattern(tag_pattern, tag_series):\n",
    "    count = 0\n",
    "    for tag_set in tag_series:\n",
    "        \n",
    "        match = True\n",
    "        # Setting this to be == only looks for users who asked exactly that many questions\n",
    "        if len(tag_set) >= len(tag_pattern):\n",
    "            for i in range(len(tag_pattern)):\n",
    "                if tag_pattern[i] != '*' and tag_pattern[i] not in tag_set[i] :\n",
    "                    match = False\n",
    "                    break\n",
    "                    \n",
    "            if match:\n",
    "                count += 1\n",
    "    return count\n",
    "                    \n",
    "                "
   ]
  },
  {
   "cell_type": "code",
   "execution_count": 13,
   "id": "64bdbc3f62c5e733",
   "metadata": {
    "ExecuteTime": {
     "end_time": "2023-12-05T23:55:39.551746900Z",
     "start_time": "2023-12-05T23:55:39.522745300Z"
    },
    "collapsed": false
   },
   "outputs": [
    {
     "name": "stdout",
     "output_type": "stream",
     "text": [
      "Pattern ['*', 'python'] occurs in the dataset 994 times out of 20503 or 4.848071013997952%\n"
     ]
    }
   ],
   "source": [
    "# Note '*' can be used to represent any tag\n",
    "pattern = ['*', 'python']\n",
    "occurs = count_pattern(pattern, user_question_tags_df.QuestionTags)\n",
    "print(f\"Pattern {pattern} occurs in the dataset {occurs} times out of {len(user_question_tags_df.QuestionTags)} or {occurs/len(user_question_tags_df.QuestionTags) * 100}%\")"
   ]
  },
  {
   "cell_type": "code",
   "execution_count": 14,
   "id": "92a274843e7189de",
   "metadata": {
    "ExecuteTime": {
     "end_time": "2023-12-05T23:55:53.160980500Z",
     "start_time": "2023-12-05T23:55:39.538745900Z"
    },
    "collapsed": false
   },
   "outputs": [
    {
     "name": "stdout",
     "output_type": "stream",
     "text": [
      "['machine-learning' 'python' 'deep-learning' 'neural-network'\n",
      " 'classification' 'keras' 'nlp' 'scikit-learn' 'tensorflow' 'time-series']\n",
      "['machine-learning' 'machine-learning' 'machine-learning'\n",
      " 'machine-learning' '0.654']\n"
     ]
    }
   ],
   "source": [
    "# top_ten_tags_plus_other = np.append(top_ten_tags[:, 0], '*')\n",
    "top_ten_tags_plus_other = top_ten_tags[:, 0]\n",
    "print(top_ten_tags_plus_other)\n",
    "top_ten_pairs = list(itertools.product(top_ten_tags_plus_other, repeat=4))\n",
    "top_ten_tags_plus_other_occurrence_rates = []\n",
    "for pattern in top_ten_pairs:\n",
    "    occurs = count_pattern(pattern, user_question_tags_df.QuestionTags)\n",
    "    top_ten_tags_plus_other_occurrence_rates.append(np.around(occurs/len(user_question_tags_df.QuestionTags) * 100 , 3))\n",
    "    # print(f\"Pattern {pattern} occurs in the dataset {occurs} times out of {len(user_question_tags_df.QuestionTags)} or {np.around(occurs/len(user_question_tags_df.QuestionTags) * 100 , 3)}%\")\n",
    "      \n",
    "combined = np.hstack((np.asarray(top_ten_pairs),np.reshape(np.asarray(top_ten_tags_plus_other_occurrence_rates) , (-1,1))))\n",
    "# print(combined[:, -1:])\n",
    "print(combined[combined[:, -1:].argmax()])"
   ]
  },
  {
   "cell_type": "code",
   "execution_count": 15,
   "id": "4f7c44af39bb7ff5",
   "metadata": {
    "ExecuteTime": {
     "end_time": "2023-12-05T23:55:53.392978800Z",
     "start_time": "2023-12-05T23:55:53.156979400Z"
    },
    "collapsed": false
   },
   "outputs": [
    {
     "name": "stdout",
     "output_type": "stream",
     "text": [
      "['machine-learning' 'machine-learning' 'machine-learning'\n",
      " 'machine-learning' '0.654']\n",
      "\n",
      "['python' 'python' 'python' 'python' '0.322']\n",
      "\n",
      "['deep-learning' 'deep-learning' 'deep-learning' 'deep-learning' '0.19']\n",
      "\n",
      "['neural-network' 'machine-learning' 'machine-learning' 'machine-learning'\n",
      " '0.146']\n",
      "\n",
      "['classification' 'machine-learning' 'machine-learning' 'machine-learning'\n",
      " '0.122']\n",
      "\n",
      "['keras' 'keras' 'keras' 'keras' '0.078']\n",
      "\n",
      "['nlp' 'nlp' 'nlp' 'nlp' '0.078']\n",
      "\n",
      "['scikit-learn' 'python' 'python' 'python' '0.078']\n",
      "\n",
      "['tensorflow' 'deep-learning' 'deep-learning' 'deep-learning' '0.049']\n",
      "\n",
      "['time-series' 'time-series' 'time-series' 'time-series' '0.039']\n"
     ]
    }
   ],
   "source": [
    "for tag in top_ten_tags_plus_other:\n",
    "    funny_order = []\n",
    "    pattern = []\n",
    "    for i in range(1):\n",
    "        pattern.append(tag)\n",
    "    for entry in combined:\n",
    "        if np.array_equal(np.asarray(entry[:len(pattern)]), np.asarray(pattern)):\n",
    "            funny_order.append(list(entry))\n",
    "    funny_order = np.asarray(funny_order)\n",
    "    print(funny_order[funny_order[:, -1:].argmax()])\n",
    "    print()"
   ]
  }
 ],
 "metadata": {
  "kernelspec": {
   "display_name": "Python 3 (ipykernel)",
   "language": "python",
   "name": "python3"
  },
  "language_info": {
   "codemirror_mode": {
    "name": "ipython",
    "version": 3
   },
   "file_extension": ".py",
   "mimetype": "text/x-python",
   "name": "python",
   "nbconvert_exporter": "python",
   "pygments_lexer": "ipython3",
   "version": "3.9.13"
  }
 },
 "nbformat": 4,
 "nbformat_minor": 5
}
